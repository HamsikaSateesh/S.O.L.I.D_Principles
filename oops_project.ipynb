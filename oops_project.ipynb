{
  "nbformat": 4,
  "nbformat_minor": 0,
  "metadata": {
    "colab": {
      "provenance": []
    },
    "kernelspec": {
      "name": "python3",
      "display_name": "Python 3"
    },
    "language_info": {
      "name": "python"
    }
  },
  "cells": [
    {
      "cell_type": "markdown",
      "source": [
        "##S.O.L.I.D Principles\n",
        "\n",
        "\n",
        "\n",
        "*   The problem statement for the Content Management System (CMS) revolves around the need to create a flexible and extensible system for managing different types of content, such as articles and videos.\n",
        "\n"
      ],
      "metadata": {
        "id": "Sfmo51mbrdM5"
      }
    },
    {
      "cell_type": "markdown",
      "source": [
        "###Single Resposibility Principle\n",
        "\n",
        "*   Each class (e.g., Article and Video) has a single responsibility, managing the initialization, display, and publishing of its respective content type. This promotes code clarity and maintainability.\n",
        "\n",
        "*    Illustrating how the Article and Video classes exhibit a clear and focused responsibility, contributing to code clarity, maintainability, and ease of modification\n",
        "\n"
      ],
      "metadata": {
        "id": "0H2yhVuprjaI"
      }
    },
    {
      "cell_type": "code",
      "execution_count": null,
      "metadata": {
        "colab": {
          "base_uri": "https://localhost:8080/"
        },
        "id": "Gxb8fzGPV7Dx",
        "outputId": "46e942c3-0bde-4870-dc77-a624957a9bc7"
      },
      "outputs": [
        {
          "output_type": "stream",
          "name": "stdout",
          "text": [
            "Title: Introduction to Python\n",
            "Content: Python is a versatile programming language.\n",
            "Title: Python Tutorial\n",
            "URL: https://example.com/python-tutorial\n"
          ]
        }
      ],
      "source": [
        "\n",
        "class Article:\n",
        "    def __init__(self, title, content):\n",
        "        self.title = title\n",
        "        self.content = content\n",
        "\n",
        "    def display(self):\n",
        "        print(f\"Title: {self.title}\\nContent: {self.content}\")\n",
        "\n",
        "class Video:\n",
        "    def __init__(self, title, url):\n",
        "        self.title = title\n",
        "        self.url = url\n",
        "\n",
        "    def display(self):\n",
        "        print(f\"Title: {self.title}\\nURL: {self.url}\")\n",
        "\n",
        "\n",
        "article = Article(title=\"Introduction to Python\", content=\"Python is a versatile programming language.\")\n",
        "video = Video(title=\"Python Tutorial\", url=\"https://example.com/python-tutorial\")\n",
        "\n",
        "article.display()\n",
        "video.display()\n"
      ]
    },
    {
      "cell_type": "markdown",
      "source": [
        "###Open/Closed Principle\n",
        "\n",
        "\n",
        "\n",
        "*   The system is open for extension with new content types. The Content interface serves as an abstraction, allowing easy addition of new content classes without modifying existing code.\n",
        "\n",
        "*   Providing insights on how the system allows for the addition of new content types without modifying existing code. Referencing the Content interface and concrete classes (Article and Video).\n",
        "\n"
      ],
      "metadata": {
        "id": "qm7Nf3XGrrGZ"
      }
    },
    {
      "cell_type": "code",
      "source": [
        "from abc import ABC, abstractmethod\n",
        "\n",
        "class Content(ABC):\n",
        "    @abstractmethod\n",
        "    def display(self):\n",
        "        pass\n",
        "\n",
        "class Article(Content):\n",
        "    def __init__(self, title, content):\n",
        "        self.title = title\n",
        "        self.content = content\n",
        "\n",
        "    def display(self):\n",
        "        print(f\"Title: {self.title}\\nContent: {self.content}\")\n",
        "\n",
        "class Video(Content):\n",
        "    def __init__(self, title, url):\n",
        "        self.title = title\n",
        "        self.url = url\n",
        "\n",
        "    def display(self):\n",
        "        print(f\"Title: {self.title}\\nURL: {self.url}\")\n",
        "\n",
        "\n",
        "content_list = [Article(title=\"Introduction to Python\", content=\"Python is a versatile programming language.\"),\n",
        "                Video(title=\"Python Tutorial\", url=\"https://example.com/python-tutorial\")]\n",
        "\n",
        "for content in content_list:\n",
        "    content.display()\n"
      ],
      "metadata": {
        "id": "zBO6T0ijaXqc",
        "colab": {
          "base_uri": "https://localhost:8080/"
        },
        "outputId": "ee9baf7c-0c30-4416-da8d-8d7ff9e09ab9"
      },
      "execution_count": null,
      "outputs": [
        {
          "output_type": "stream",
          "name": "stdout",
          "text": [
            "Title: Introduction to Python\n",
            "Content: Python is a versatile programming language.\n",
            "Title: Python Tutorial\n",
            "URL: https://example.com/python-tutorial\n"
          ]
        }
      ]
    },
    {
      "cell_type": "markdown",
      "source": [
        "###Liskov's Substitution Principle\n",
        "\n",
        "*   Instances of derived classes (Article and Video) can be seamlessly substituted for instances of the base class (Content) without affecting the correctness of the program. This promotes code interoperability.\n",
        "\n",
        "*   Discussing how instances of derived classes (Article and Video) can seamlessly substitute instances of the base class (Content) without affecting program correctness.\n",
        "\n"
      ],
      "metadata": {
        "id": "_4HQCzRrrxKZ"
      }
    },
    {
      "cell_type": "code",
      "source": [
        "class Content(ABC):\n",
        "    @abstractmethod\n",
        "    def display(self):\n",
        "        pass\n",
        "\n",
        "class Article(Content):\n",
        "    def __init__(self, title, content):\n",
        "        self.title = title\n",
        "        self.content = content\n",
        "\n",
        "    def display(self):\n",
        "        print(f\"Title: {self.title}\\nContent: {self.content}\")\n",
        "\n",
        "class Video(Content):\n",
        "    def __init__(self, title, url):\n",
        "        self.title = title\n",
        "        self.url = url\n",
        "\n",
        "    def display(self):\n",
        "        print(f\"Title: {self.title}\\nURL: {self.url}\")\n",
        "\n",
        "def display_content(content):\n",
        "    content.display()\n",
        "\n",
        "article = Article(title=\"Introduction to Python\", content=\"Python is a versatile programming language.\")\n",
        "video = Video(title=\"Python Tutorial\", url=\"https://example.com/python-tutorial\")\n",
        "\n",
        "display_content(article)\n",
        "display_content(video)\n"
      ],
      "metadata": {
        "colab": {
          "base_uri": "https://localhost:8080/"
        },
        "id": "t_dcV9aKb9NR",
        "outputId": "296dac3d-2415-4cc2-fb12-336aae0250c2"
      },
      "execution_count": null,
      "outputs": [
        {
          "output_type": "stream",
          "name": "stdout",
          "text": [
            "Title: Introduction to Python\n",
            "Content: Python is a versatile programming language.\n",
            "Title: Python Tutorial\n",
            "URL: https://example.com/python-tutorial\n"
          ]
        }
      ]
    },
    {
      "cell_type": "markdown",
      "source": [
        "###Interface Segregation Principle\n",
        "\n",
        "*   The system defines focused interfaces (Displayable and Publishable), and classes implement only the interfaces relevant to their functionalities. This avoids forcing classes to implement unnecessary methods.\n",
        "\n",
        "*   Creation of focused interfaces (Displayable and Publishable) and how classes (Article and Video) implement only the interfaces relevant to their functionalities.\n",
        "\n"
      ],
      "metadata": {
        "id": "Bw-EyJrZr2JU"
      }
    },
    {
      "cell_type": "code",
      "source": [
        "class Displayable(ABC):\n",
        "    @abstractmethod\n",
        "    def display(self):\n",
        "        pass\n",
        "\n",
        "class Publishable(ABC):\n",
        "    @abstractmethod\n",
        "    def publish(self):\n",
        "        pass\n",
        "\n",
        "class Article(Displayable, Publishable):\n",
        "    def __init__(self, title, content):\n",
        "        self.title = title\n",
        "        self.content = content\n",
        "\n",
        "    def display(self):\n",
        "        print(f\"Title: {self.title}\\nContent: {self.content}\")\n",
        "\n",
        "    def publish(self):\n",
        "        print(\"Article published.\")\n",
        "\n",
        "class Video(Displayable, Publishable):\n",
        "    def __init__(self, title, url):\n",
        "        self.title = title\n",
        "        self.url = url\n",
        "\n",
        "    def display(self):\n",
        "        print(f\"Title: {self.title}\\nURL: {self.url}\")\n",
        "\n",
        "    def publish(self):\n",
        "        print(\"Video published.\")\n",
        "\n",
        "# Usage\n",
        "article = Article(title=\"Introduction to Python\", content=\"Python is a versatile programming language.\")\n",
        "video = Video(title=\"Python Tutorial\", url=\"https://example.com/python-tutorial\")\n",
        "\n",
        "article.display()\n",
        "article.publish()\n",
        "\n",
        "video.display()\n",
        "video.publish()\n"
      ],
      "metadata": {
        "id": "iqf9rye-dYQx",
        "colab": {
          "base_uri": "https://localhost:8080/"
        },
        "outputId": "8ff46041-c5a3-466f-b92a-9189858d2280"
      },
      "execution_count": null,
      "outputs": [
        {
          "output_type": "stream",
          "name": "stdout",
          "text": [
            "Title: Introduction to Python\n",
            "Content: Python is a versatile programming language.\n",
            "Article published.\n",
            "Title: Python Tutorial\n",
            "URL: https://example.com/python-tutorial\n",
            "Video published.\n"
          ]
        }
      ]
    },
    {
      "cell_type": "markdown",
      "source": [
        "###Dependency Inversion Principle\n",
        "\n",
        "\n",
        "*  High-level modules, such as the ContentManager, depend on abstractions (Content) rather than concrete implementations (Article and Video). This promotes flexibility and allows for easy extension without modifying existing code.\n",
        "\n",
        "*   Showing how high-level modules, such as the ContentManager, depend on abstractions (Content) rather than concrete implementations. Reference specific classes and interfaces, demonstrating how this design choice promotes flexibility and extensibility.\n",
        "\n"
      ],
      "metadata": {
        "id": "dS_CQrB-r8O9"
      }
    },
    {
      "cell_type": "code",
      "source": [
        "class Content(ABC):\n",
        "    @abstractmethod\n",
        "    def display(self):\n",
        "        pass\n",
        "\n",
        "    @abstractmethod\n",
        "    def publish(self):\n",
        "        pass\n",
        "\n",
        "class Article(Content):\n",
        "    def __init__(self, title, content):\n",
        "        self.title = title\n",
        "        self.content = content\n",
        "\n",
        "    def display(self):\n",
        "        print(f\"Title: {self.title}\\nContent: {self.content}\")\n",
        "\n",
        "    def publish(self):\n",
        "        print(\"Article published.\")\n",
        "\n",
        "class Video(Content):\n",
        "    def __init__(self, title, url):\n",
        "        self.title = title\n",
        "        self.url = url\n",
        "\n",
        "    def display(self):\n",
        "        print(f\"Title: {self.title}\\nURL: {self.url}\")\n",
        "\n",
        "    def publish(self):\n",
        "        print(\"Video published.\")\n",
        "\n",
        "class ContentManager:\n",
        "    def __init__(self, content: Content):\n",
        "        self.content = content\n",
        "\n",
        "    def process_content(self):\n",
        "        self.content.display()\n",
        "        self.content.publish()\n",
        "\n",
        "# Usage\n",
        "article = Article(title=\"Introduction to Python\", content=\"Python is a versatile programming language.\")\n",
        "video = Video(title=\"Python Tutorial\", url=\"https://example.com/python-tutorial\")\n",
        "\n",
        "article_manager = ContentManager(article)\n",
        "video_manager = ContentManager(video)\n",
        "\n",
        "article_manager.process_content()\n",
        "video_manager.process_content()\n"
      ],
      "metadata": {
        "id": "zYBzZF16j-M6",
        "colab": {
          "base_uri": "https://localhost:8080/"
        },
        "outputId": "cbd3bc62-8390-4c38-e09c-2702cdc8483e"
      },
      "execution_count": null,
      "outputs": [
        {
          "output_type": "stream",
          "name": "stdout",
          "text": [
            "Title: Introduction to Python\n",
            "Content: Python is a versatile programming language.\n",
            "Article published.\n",
            "Title: Python Tutorial\n",
            "URL: https://example.com/python-tutorial\n",
            "Video published.\n"
          ]
        }
      ]
    }
  ]
}